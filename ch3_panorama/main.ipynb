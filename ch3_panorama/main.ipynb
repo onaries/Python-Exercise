{
 "cells": [
  {
   "cell_type": "code",
   "execution_count": 1,
   "metadata": {
    "collapsed": true
   },
   "outputs": [
    {
     "name": "stderr",
     "output_type": "stream",
     "text": [
      "C:\\Python27\\lib\\site-packages\\matplotlib\\cbook.py:137: MatplotlibDeprecationWarning: The matplotlib.delaunay module was deprecated in version 1.4. Use matplotlib.tri.Triangulation instead.\n  warnings.warn(message, mplDeprecation, stacklevel=1)\n"
     ]
    },
    {
     "name": "stdout",
     "output_type": "stream",
     "text": [
      "1595 132\n"
     ]
    },
    {
     "name": "stdout",
     "output_type": "stream",
     "text": [
      "1021 132\n1217 132\n"
     ]
    },
    {
     "name": "stdout",
     "output_type": "stream",
     "text": [
      "1828 132\n"
     ]
    },
    {
     "name": "stdout",
     "output_type": "stream",
     "text": [
      "2270 132\n"
     ]
    },
    {
     "name": "stderr",
     "output_type": "stream",
     "text": [
      "C:\\Python27\\lib\\site-packages\\PCV\\geometry\\homography.py:154: RuntimeWarning: divide by zero encountered in divide\n  row /= points[-1]\nC:\\Python27\\lib\\site-packages\\PCV\\geometry\\homography.py:154: RuntimeWarning: invalid value encountered in divide\n  row /= points[-1]\nC:\\Python27\\lib\\site-packages\\PCV\\tools\\ransac.py:87: RuntimeWarning: invalid value encountered in less\n  also_idxs = test_idxs[test_err < t] # select indices of rows with accepted points\n"
     ]
    }
   ],
   "source": [
    "from pylab import *\n",
    "from numpy import *\n",
    "from PIL import Image\n",
    "import os\n",
    "\n",
    "# If you have PCV installed, these imports should work\n",
    "from PCV.geometry import homography, warp\n",
    "from PCV.localdescriptors import sift\n",
    "\n",
    "\"\"\"\n",
    "This is the panorama example from section 3.3.\n",
    "\"\"\"\n",
    "\n",
    "# set paths to data folder\n",
    "featname = ['./data/ssift' + str(i + 1) + '.sift' for i in range(5)]\n",
    "imname = ['./data/ssift' + str(i + 1) + '.jpg' for i in range(5)]\n",
    "\n",
    "# extract features and match\n",
    "l = {}\n",
    "d = {}\n",
    "for i in range(5):\n",
    "    if not os.path.isfile(featname[i]):\n",
    "        sift.process_image(imname[i], featname[i])\n",
    "    l[i], d[i] = sift.read_features_from_file(featname[i])\n",
    "\n",
    "matches = {}\n",
    "for i in range(4):\n",
    "    matches[i] = sift.match(d[i + 1], d[i])\n",
    "\n",
    "# visualize the matches (Figure 3-11 in the book)\n",
    "for i in range(4):\n",
    "    im1 = array(Image.open(imname[i]))\n",
    "    im2 = array(Image.open(imname[i + 1]))\n",
    "    figure()\n",
    "    sift.plot_matches(im2, im1, l[i + 1], l[i], matches[i], show_below=True)\n",
    "\n",
    "\n",
    "# function to convert the matches to hom. points\n",
    "def convert_points(j):\n",
    "    ndx = matches[j].nonzero()[0]\n",
    "    fp = homography.make_homog(l[j + 1][ndx, :2].T)\n",
    "    ndx2 = [int(matches[j][i]) for i in ndx]\n",
    "    tp = homography.make_homog(l[j][ndx2, :2].T)\n",
    "\n",
    "    # switch x and y - TODO this should move elsewhere\n",
    "    # fp = vstack([fp[1], fp[0], fp[2]])\n",
    "    # tp = vstack([tp[1], tp[0], tp[2]])\n",
    "    return fp, tp\n",
    "\n",
    "\n",
    "# estimate the homographies\n",
    "model = homography.RansacModel()\n",
    "\n",
    "fp, tp = convert_points(1)\n",
    "H_12 = homography.H_from_ransac(fp, tp, model)[0]  # im 1 to 2\n",
    "\n",
    "fp, tp = convert_points(0)\n",
    "H_01 = homography.H_from_ransac(fp, tp, model)[0]  # im 0 to 1\n",
    "\n",
    "tp, fp = convert_points(2)  # NB: reverse order\n",
    "H_32 = homography.H_from_ransac(fp, tp, model)[0]  # im 3 to 2\n",
    "\n",
    "tp, fp = convert_points(3)  # NB: reverse order\n",
    "H_43 = homography.H_from_ransac(fp, tp, model)[0]  # im 4 to 3\n",
    "\n",
    "# warp the images\n",
    "delta = 1000  # for padding and translation"
   ]
  },
  {
   "cell_type": "code",
   "execution_count": null,
   "metadata": {},
   "outputs": [],
   "source": [
    "im1 = array(Image.open(imname[1]), \"uint8\")\n",
    "im2 = array(Image.open(imname[2]), \"uint8\")\n",
    "im_12 = warp.panorama(H_12, im1, im2, delta, delta)\n",
    "\n",
    "im1 = array(Image.open(imname[0]), \"f\")\n",
    "im_02 = warp.panorama(dot(H_12, H_01), im1, im_12, delta, 2* delta)\n",
    "\n",
    "im1 = array(Image.open(imname[3]), \"f\")\n",
    "im_32 = warp.panorama(H_32, im1, im_02, delta, delta)\n",
    "\n",
    "im1 = array(Image.open(imname[4]), \"f\")\n",
    "im_42 = warp.panorama(dot(H_32, H_43), im1, im_32, delta, 2 * delta)\n",
    "\n",
    "figure()\n",
    "imshow(array(im_42, \"uint8\"))\n",
    "axis('off')\n",
    "show()"
   ]
  },
  {
   "cell_type": "code",
   "execution_count": null,
   "metadata": {},
   "outputs": [],
   "source": [
    ""
   ]
  }
 ],
 "metadata": {
  "kernelspec": {
   "display_name": "Python 2",
   "language": "python",
   "name": "python2"
  },
  "language_info": {
   "codemirror_mode": {
    "name": "ipython",
    "version": 2.0
   },
   "file_extension": ".py",
   "mimetype": "text/x-python",
   "name": "python",
   "nbconvert_exporter": "python",
   "pygments_lexer": "ipython2",
   "version": "2.7.6"
  }
 },
 "nbformat": 4,
 "nbformat_minor": 0
}